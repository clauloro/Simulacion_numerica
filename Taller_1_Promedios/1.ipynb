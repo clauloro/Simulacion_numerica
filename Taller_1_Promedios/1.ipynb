{
 "cells": [
  {
   "cell_type": "markdown",
   "metadata": {},
   "source": [
    "# Taller 1: Promedios\n"
   ]
  },
  {
   "cell_type": "markdown",
   "metadata": {},
   "source": [
    "### Parte 1: Definir función para cálculos estadísticos\n",
    "\n",
    "Implementar una función en Python que a partir de un conjunto de datos determine:\n",
    " - El valor promedio\n",
    " - La desviación estándar\n",
    " - La varianza\n",
    " - El coeficiente de variación"
   ]
  },
  {
   "cell_type": "code",
   "execution_count": null,
   "metadata": {
    "vscode": {
     "languageId": "plaintext"
    }
   },
   "outputs": [],
   "source": [
    "import numpy as np\n",
    "import matplotlib.pyplot as plt\n",
    "\n",
    "def calcular_estadisticas(datos):\n",
    "    promedio = np.mean(datos)\n",
    "    desviacion_std = np.std(datos, ddof=1)  # ddof=1 para muestra\n",
    "    varianza = np.var(datos, ddof=1)\n",
    "    coef_var = (desviacion_std / promedio) * 100  # Expresado en %\n",
    "    \n",
    "    return promedio, desviacion_std, varianza, coef_var"
   ]
  }
 ],
 "metadata": {
  "language_info": {
   "name": "python"
  }
 },
 "nbformat": 4,
 "nbformat_minor": 2
}
